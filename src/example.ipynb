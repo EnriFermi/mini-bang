{
 "cells": [
  {
   "cell_type": "code",
   "execution_count": 1,
   "id": "7b716034",
   "metadata": {},
   "outputs": [
    {
     "name": "stderr",
     "output_type": "stream",
     "text": [
      "/Users/dirak/anaconda3/envs/onerec/lib/python3.11/site-packages/requests/__init__.py:86: RequestsDependencyWarning: Unable to find acceptable character detection dependency (chardet or charset_normalizer).\n",
      "  warnings.warn(\n"
     ]
    },
    {
     "name": "stdout",
     "output_type": "stream",
     "text": [
      "WTF None\n",
      "WTF None\n",
      "WTF None\n",
      "WTF None\n"
     ]
    },
    {
     "name": "stderr",
     "output_type": "stream",
     "text": [
      "INFO:mini_bang.api:Simulation API server listening on http://127.0.0.1:55129\n"
     ]
    },
    {
     "name": "stdout",
     "output_type": "stream",
     "text": [
      "WTF None\n",
      "Average log-likelihood gap 2.398 (threshold 0.350)\n",
      "{'avg_loglik_gap': 2.397885272858372}\n"
     ]
    }
   ],
   "source": [
    "from mini_bang.agent_connector import AgentConnector\n",
    "from mini_bang.agents import LangChainRAFTimingAgent\n",
    "\n",
    "connector = AgentConnector()\n",
    "agent = LangChainRAFTimingAgent()\n",
    "result = connector.run(agent, task_id=\"raf/timing-v1\")\n",
    "\n",
    "print(result.validation.details)\n",
    "print(result.validation.metrics)"
   ]
  },
  {
   "cell_type": "code",
   "execution_count": null,
   "id": "0374f927",
   "metadata": {},
   "outputs": [],
   "source": [
    "from mini_bang.mcp.client import MCPClient\n",
    "client = MCPClient()\n",
    "try:\n",
    "    print('\"'\"'calling'\"'\"')\n",
    "    result = client.call_get_simulation('\"'\"'raf_timing'\"'\"', {\n",
    "        '\"'\"'saturation'\"'\"': 10,\n",
    "        '\"'\"'runs'\"'\"': 1,\n",
    "    })\n",
    "    print('\"'\"'result'\"'\"', result)\n",
    "except Exception as exc:\n",
    "    print('\"'\"'error'\"'\"', exc)\n",
    "proc = MCPClient._process\n",
    "if proc is not None and proc.stderr is not None:\n",
    "    stderr_content = proc.stderr.read()\n",
    "    if stderr_content:\n",
    "        print('\"'\"'stderr:'\"'\"', stderr_content)"
   ]
  }
 ],
 "metadata": {
  "kernelspec": {
   "display_name": "onerec",
   "language": "python",
   "name": "python3"
  },
  "language_info": {
   "codemirror_mode": {
    "name": "ipython",
    "version": 3
   },
   "file_extension": ".py",
   "mimetype": "text/x-python",
   "name": "python",
   "nbconvert_exporter": "python",
   "pygments_lexer": "ipython3",
   "version": "3.11.13"
  }
 },
 "nbformat": 4,
 "nbformat_minor": 5
}
