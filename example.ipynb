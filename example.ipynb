{
 "cells": [
  {
   "cell_type": "code",
   "execution_count": null,
   "id": "9c27df3e",
   "metadata": {},
   "outputs": [],
   "source": [
    "from simulators.raf.utils import ChemicalReactionNetwork\n",
    "from simulators.raf.subordinate.simulator import CRNSimulator\n",
    "from simulators.raf.master.simulator import MasterModel\n",
    "from simulators.raf.visual import plot_traces\n",
    "\n",
    "simulator = MasterModel(\n",
    "    M0=2,\n",
    "    alpha=lambda i: 0.05*(3-i),\n",
    "    K = 3,\n",
    "    p = 0.5,\n",
    "    k_lig=1.0, \n",
    "    k_unlig=0.05,\n",
    "    max_events=200000\n",
    ").get_slave_simulator(10, max_raf=True, prune_catalysts=True)\n",
    "\n",
    "print(str(simulator.crn))\n",
    "\n",
    "times, traces = simulator.sample()\n",
    "plot_traces(times, traces, to_plot=list(set(simulator.crn.species) - set(simulator.crn.food_set)),\n",
    "                ylim=(0,100), title='Original network (converted)')"
   ]
  },
  {
   "cell_type": "code",
   "execution_count": null,
   "id": "bd4817ea",
   "metadata": {},
   "outputs": [],
   "source": [
    "crn = ChemicalReactionNetwork(\n",
    "    [\n",
    "        (['1','00'],  ['100'],  ['0'], 1.0, 0.05,  True),\n",
    "        (['1','10'],  ['110'],  ['1'], 1.0, 0.05,  True),\n",
    "        (['10','10'],  ['1010'],  ['1010'], 1.0, 0.05,  True),\n",
    "        (['00','100'],  ['00100'],  ['1010'], 1.0, 0.05,  True),\n",
    "        (['0','10'],  ['010'],  ['111'], 1.0, 0.05,  True),\n",
    "        (['1','11'],  ['111'],  ['010'], 1.0, 0.05,  True),\n",
    "        (['111','00'],  ['11100'],  ['010'], 1.0, 0.05,  True),\n",
    "        (['01','111'],  ['01111'],  ['01111'], 1.0, 0.05,  True),\n",
    "    ],\n",
    "    ['0','1','00','01','10','11']\n",
    ")\n",
    "simulator = CRNSimulator(crn, max_events=600000)\n",
    "times, traces = simulator.sample()\n",
    "print(str(simulator.crn))"
   ]
  },
  {
   "cell_type": "code",
   "execution_count": null,
   "id": "f9d176e6",
   "metadata": {},
   "outputs": [],
   "source": [
    "plot_traces(times, traces, to_plot=list(set(simulator.crn.species) - set(simulator.crn.food_set)),\n",
    "                ylim=(0,100), title='Original network (converted)')"
   ]
  }
 ],
 "metadata": {
  "kernelspec": {
   "display_name": "onerec",
   "language": "python",
   "name": "python3"
  },
  "language_info": {
   "codemirror_mode": {
    "name": "ipython",
    "version": 3
   },
   "file_extension": ".py",
   "mimetype": "text/x-python",
   "name": "python",
   "nbconvert_exporter": "python",
   "pygments_lexer": "ipython3",
   "version": "3.11.13"
  }
 },
 "nbformat": 4,
 "nbformat_minor": 5
}
